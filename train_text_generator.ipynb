{
  "nbformat": 4,
  "nbformat_minor": 0,
  "metadata": {
    "colab": {
      "provenance": [],
      "gpuType": "A100"
    },
    "kernelspec": {
      "name": "python3",
      "display_name": "Python 3"
    },
    "language_info": {
      "name": "python"
    },
    "accelerator": "GPU"
  },
  "cells": [
    {
      "cell_type": "code",
      "source": [
        "pip install rouge-score bert-score transformers"
      ],
      "metadata": {
        "collapsed": true,
        "id": "Oq2zolN8djmA"
      },
      "execution_count": null,
      "outputs": []
    },
    {
      "cell_type": "code",
      "source": [
        "import os\n",
        "import pandas as pd\n",
        "import re\n",
        "import random\n",
        "import spacy\n",
        "from sklearn.model_selection import train_test_split\n",
        "import numpy as np\n",
        "\n",
        "from transformers import T5Tokenizer, T5ForConditionalGeneration\n",
        "from torch import cuda, tensor\n",
        "from torch.utils.data import DataLoader, TensorDataset\n",
        "import torch\n",
        "import torch.optim as optim\n",
        "from huggingface_hub import HfFolder, Repository, create_repo\n",
        "\n",
        "from rouge_score import rouge_scorer\n",
        "from nltk.translate.bleu_score import sentence_bleu, SmoothingFunction\n",
        "from transformers import BertTokenizer, BertModel\n",
        "from bert_score import BERTScorer\n",
        "\n",
        "from hyperopt import hp, fmin, tpe, STATUS_OK, Trials\n",
        "from transformers import Trainer, TrainingArguments"
      ],
      "metadata": {
        "id": "Px_1TDSfN9Vm"
      },
      "execution_count": 2,
      "outputs": []
    },
    {
      "cell_type": "code",
      "execution_count": 3,
      "metadata": {
        "id": "vp-ZD7QylsxX",
        "colab": {
          "base_uri": "https://localhost:8080/"
        },
        "outputId": "331196e3-efb1-42d0-b205-0deb72a82041"
      },
      "outputs": [
        {
          "output_type": "stream",
          "name": "stdout",
          "text": [
            "Mounted at /content/drive\n"
          ]
        }
      ],
      "source": [
        "from google.colab import drive\n",
        "drive.mount('/content/drive')"
      ]
    },
    {
      "cell_type": "code",
      "source": [
        "cwd = '/content/drive/MyDrive/LLMs'\n",
        "cwd"
      ],
      "metadata": {
        "id": "BlyuMKwdmGZx",
        "colab": {
          "base_uri": "https://localhost:8080/",
          "height": 35
        },
        "outputId": "96590027-6be8-48d8-8094-7cf37dcd3d41"
      },
      "execution_count": 4,
      "outputs": [
        {
          "output_type": "execute_result",
          "data": {
            "text/plain": [
              "'/content/drive/MyDrive/LLMs'"
            ],
            "application/vnd.google.colaboratory.intrinsic+json": {
              "type": "string"
            }
          },
          "metadata": {},
          "execution_count": 4
        }
      ]
    },
    {
      "cell_type": "code",
      "source": [
        "filename = f'{cwd}/subreddits_train_data.parquet'\n",
        "raw_df = pd.read_parquet(filename)\n",
        "raw_df.head()"
      ],
      "metadata": {
        "id": "9yjvdEzqnZXd",
        "colab": {
          "base_uri": "https://localhost:8080/",
          "height": 206
        },
        "outputId": "562c2277-5c2d-433d-aa33-94fcde6ecbaa"
      },
      "execution_count": null,
      "outputs": [
        {
          "output_type": "execute_result",
          "data": {
            "text/plain": [
              "                                            PostText\n",
              "0  Text: Nobody can read all the questions and an...\n",
              "1  Text: ( Please Be Aware: We expect everyone to...\n",
              "2  Text: Mods will remove questions which we deem...\n",
              "3  Text: We will remove answers which don't inclu...\n",
              "4       Text: These removals will be without notice."
            ],
            "text/html": [
              "\n",
              "  <div id=\"df-3271dab0-fe35-4b30-86b4-8e75a2491831\" class=\"colab-df-container\">\n",
              "    <div>\n",
              "<style scoped>\n",
              "    .dataframe tbody tr th:only-of-type {\n",
              "        vertical-align: middle;\n",
              "    }\n",
              "\n",
              "    .dataframe tbody tr th {\n",
              "        vertical-align: top;\n",
              "    }\n",
              "\n",
              "    .dataframe thead th {\n",
              "        text-align: right;\n",
              "    }\n",
              "</style>\n",
              "<table border=\"1\" class=\"dataframe\">\n",
              "  <thead>\n",
              "    <tr style=\"text-align: right;\">\n",
              "      <th></th>\n",
              "      <th>PostText</th>\n",
              "    </tr>\n",
              "  </thead>\n",
              "  <tbody>\n",
              "    <tr>\n",
              "      <th>0</th>\n",
              "      <td>Text: Nobody can read all the questions and an...</td>\n",
              "    </tr>\n",
              "    <tr>\n",
              "      <th>1</th>\n",
              "      <td>Text: ( Please Be Aware: We expect everyone to...</td>\n",
              "    </tr>\n",
              "    <tr>\n",
              "      <th>2</th>\n",
              "      <td>Text: Mods will remove questions which we deem...</td>\n",
              "    </tr>\n",
              "    <tr>\n",
              "      <th>3</th>\n",
              "      <td>Text: We will remove answers which don't inclu...</td>\n",
              "    </tr>\n",
              "    <tr>\n",
              "      <th>4</th>\n",
              "      <td>Text: These removals will be without notice.</td>\n",
              "    </tr>\n",
              "  </tbody>\n",
              "</table>\n",
              "</div>\n",
              "    <div class=\"colab-df-buttons\">\n",
              "\n",
              "  <div class=\"colab-df-container\">\n",
              "    <button class=\"colab-df-convert\" onclick=\"convertToInteractive('df-3271dab0-fe35-4b30-86b4-8e75a2491831')\"\n",
              "            title=\"Convert this dataframe to an interactive table.\"\n",
              "            style=\"display:none;\">\n",
              "\n",
              "  <svg xmlns=\"http://www.w3.org/2000/svg\" height=\"24px\" viewBox=\"0 -960 960 960\">\n",
              "    <path d=\"M120-120v-720h720v720H120Zm60-500h600v-160H180v160Zm220 220h160v-160H400v160Zm0 220h160v-160H400v160ZM180-400h160v-160H180v160Zm440 0h160v-160H620v160ZM180-180h160v-160H180v160Zm440 0h160v-160H620v160Z\"/>\n",
              "  </svg>\n",
              "    </button>\n",
              "\n",
              "  <style>\n",
              "    .colab-df-container {\n",
              "      display:flex;\n",
              "      gap: 12px;\n",
              "    }\n",
              "\n",
              "    .colab-df-convert {\n",
              "      background-color: #E8F0FE;\n",
              "      border: none;\n",
              "      border-radius: 50%;\n",
              "      cursor: pointer;\n",
              "      display: none;\n",
              "      fill: #1967D2;\n",
              "      height: 32px;\n",
              "      padding: 0 0 0 0;\n",
              "      width: 32px;\n",
              "    }\n",
              "\n",
              "    .colab-df-convert:hover {\n",
              "      background-color: #E2EBFA;\n",
              "      box-shadow: 0px 1px 2px rgba(60, 64, 67, 0.3), 0px 1px 3px 1px rgba(60, 64, 67, 0.15);\n",
              "      fill: #174EA6;\n",
              "    }\n",
              "\n",
              "    .colab-df-buttons div {\n",
              "      margin-bottom: 4px;\n",
              "    }\n",
              "\n",
              "    [theme=dark] .colab-df-convert {\n",
              "      background-color: #3B4455;\n",
              "      fill: #D2E3FC;\n",
              "    }\n",
              "\n",
              "    [theme=dark] .colab-df-convert:hover {\n",
              "      background-color: #434B5C;\n",
              "      box-shadow: 0px 1px 3px 1px rgba(0, 0, 0, 0.15);\n",
              "      filter: drop-shadow(0px 1px 2px rgba(0, 0, 0, 0.3));\n",
              "      fill: #FFFFFF;\n",
              "    }\n",
              "  </style>\n",
              "\n",
              "    <script>\n",
              "      const buttonEl =\n",
              "        document.querySelector('#df-3271dab0-fe35-4b30-86b4-8e75a2491831 button.colab-df-convert');\n",
              "      buttonEl.style.display =\n",
              "        google.colab.kernel.accessAllowed ? 'block' : 'none';\n",
              "\n",
              "      async function convertToInteractive(key) {\n",
              "        const element = document.querySelector('#df-3271dab0-fe35-4b30-86b4-8e75a2491831');\n",
              "        const dataTable =\n",
              "          await google.colab.kernel.invokeFunction('convertToInteractive',\n",
              "                                                    [key], {});\n",
              "        if (!dataTable) return;\n",
              "\n",
              "        const docLinkHtml = 'Like what you see? Visit the ' +\n",
              "          '<a target=\"_blank\" href=https://colab.research.google.com/notebooks/data_table.ipynb>data table notebook</a>'\n",
              "          + ' to learn more about interactive tables.';\n",
              "        element.innerHTML = '';\n",
              "        dataTable['output_type'] = 'display_data';\n",
              "        await google.colab.output.renderOutput(dataTable, element);\n",
              "        const docLink = document.createElement('div');\n",
              "        docLink.innerHTML = docLinkHtml;\n",
              "        element.appendChild(docLink);\n",
              "      }\n",
              "    </script>\n",
              "  </div>\n",
              "\n",
              "\n",
              "    <div id=\"df-53029129-515f-4dff-987b-740cffbd5d84\">\n",
              "      <button class=\"colab-df-quickchart\" onclick=\"quickchart('df-53029129-515f-4dff-987b-740cffbd5d84')\"\n",
              "                title=\"Suggest charts\"\n",
              "                style=\"display:none;\">\n",
              "\n",
              "<svg xmlns=\"http://www.w3.org/2000/svg\" height=\"24px\"viewBox=\"0 0 24 24\"\n",
              "     width=\"24px\">\n",
              "    <g>\n",
              "        <path d=\"M19 3H5c-1.1 0-2 .9-2 2v14c0 1.1.9 2 2 2h14c1.1 0 2-.9 2-2V5c0-1.1-.9-2-2-2zM9 17H7v-7h2v7zm4 0h-2V7h2v10zm4 0h-2v-4h2v4z\"/>\n",
              "    </g>\n",
              "</svg>\n",
              "      </button>\n",
              "\n",
              "<style>\n",
              "  .colab-df-quickchart {\n",
              "      --bg-color: #E8F0FE;\n",
              "      --fill-color: #1967D2;\n",
              "      --hover-bg-color: #E2EBFA;\n",
              "      --hover-fill-color: #174EA6;\n",
              "      --disabled-fill-color: #AAA;\n",
              "      --disabled-bg-color: #DDD;\n",
              "  }\n",
              "\n",
              "  [theme=dark] .colab-df-quickchart {\n",
              "      --bg-color: #3B4455;\n",
              "      --fill-color: #D2E3FC;\n",
              "      --hover-bg-color: #434B5C;\n",
              "      --hover-fill-color: #FFFFFF;\n",
              "      --disabled-bg-color: #3B4455;\n",
              "      --disabled-fill-color: #666;\n",
              "  }\n",
              "\n",
              "  .colab-df-quickchart {\n",
              "    background-color: var(--bg-color);\n",
              "    border: none;\n",
              "    border-radius: 50%;\n",
              "    cursor: pointer;\n",
              "    display: none;\n",
              "    fill: var(--fill-color);\n",
              "    height: 32px;\n",
              "    padding: 0;\n",
              "    width: 32px;\n",
              "  }\n",
              "\n",
              "  .colab-df-quickchart:hover {\n",
              "    background-color: var(--hover-bg-color);\n",
              "    box-shadow: 0 1px 2px rgba(60, 64, 67, 0.3), 0 1px 3px 1px rgba(60, 64, 67, 0.15);\n",
              "    fill: var(--button-hover-fill-color);\n",
              "  }\n",
              "\n",
              "  .colab-df-quickchart-complete:disabled,\n",
              "  .colab-df-quickchart-complete:disabled:hover {\n",
              "    background-color: var(--disabled-bg-color);\n",
              "    fill: var(--disabled-fill-color);\n",
              "    box-shadow: none;\n",
              "  }\n",
              "\n",
              "  .colab-df-spinner {\n",
              "    border: 2px solid var(--fill-color);\n",
              "    border-color: transparent;\n",
              "    border-bottom-color: var(--fill-color);\n",
              "    animation:\n",
              "      spin 1s steps(1) infinite;\n",
              "  }\n",
              "\n",
              "  @keyframes spin {\n",
              "    0% {\n",
              "      border-color: transparent;\n",
              "      border-bottom-color: var(--fill-color);\n",
              "      border-left-color: var(--fill-color);\n",
              "    }\n",
              "    20% {\n",
              "      border-color: transparent;\n",
              "      border-left-color: var(--fill-color);\n",
              "      border-top-color: var(--fill-color);\n",
              "    }\n",
              "    30% {\n",
              "      border-color: transparent;\n",
              "      border-left-color: var(--fill-color);\n",
              "      border-top-color: var(--fill-color);\n",
              "      border-right-color: var(--fill-color);\n",
              "    }\n",
              "    40% {\n",
              "      border-color: transparent;\n",
              "      border-right-color: var(--fill-color);\n",
              "      border-top-color: var(--fill-color);\n",
              "    }\n",
              "    60% {\n",
              "      border-color: transparent;\n",
              "      border-right-color: var(--fill-color);\n",
              "    }\n",
              "    80% {\n",
              "      border-color: transparent;\n",
              "      border-right-color: var(--fill-color);\n",
              "      border-bottom-color: var(--fill-color);\n",
              "    }\n",
              "    90% {\n",
              "      border-color: transparent;\n",
              "      border-bottom-color: var(--fill-color);\n",
              "    }\n",
              "  }\n",
              "</style>\n",
              "\n",
              "      <script>\n",
              "        async function quickchart(key) {\n",
              "          const quickchartButtonEl =\n",
              "            document.querySelector('#' + key + ' button');\n",
              "          quickchartButtonEl.disabled = true;  // To prevent multiple clicks.\n",
              "          quickchartButtonEl.classList.add('colab-df-spinner');\n",
              "          try {\n",
              "            const charts = await google.colab.kernel.invokeFunction(\n",
              "                'suggestCharts', [key], {});\n",
              "          } catch (error) {\n",
              "            console.error('Error during call to suggestCharts:', error);\n",
              "          }\n",
              "          quickchartButtonEl.classList.remove('colab-df-spinner');\n",
              "          quickchartButtonEl.classList.add('colab-df-quickchart-complete');\n",
              "        }\n",
              "        (() => {\n",
              "          let quickchartButtonEl =\n",
              "            document.querySelector('#df-53029129-515f-4dff-987b-740cffbd5d84 button');\n",
              "          quickchartButtonEl.style.display =\n",
              "            google.colab.kernel.accessAllowed ? 'block' : 'none';\n",
              "        })();\n",
              "      </script>\n",
              "    </div>\n",
              "\n",
              "    </div>\n",
              "  </div>\n"
            ],
            "application/vnd.google.colaboratory.intrinsic+json": {
              "type": "dataframe",
              "variable_name": "raw_df",
              "summary": "{\n  \"name\": \"raw_df\",\n  \"rows\": 77757,\n  \"fields\": [\n    {\n      \"column\": \"PostText\",\n      \"properties\": {\n        \"dtype\": \"string\",\n        \"num_unique_values\": 72004,\n        \"samples\": [\n          \"Text:  Is part of the kink, that me actually has to struggle and fight against it or roleplaying to not enjoy it?\",\n          \"Text: It is, after all, the easier route: resigning yourself to the world around you, instead of trying to change it.\",\n          \"Text: Where should I start?\"\n        ],\n        \"semantic_type\": \"\",\n        \"description\": \"\"\n      }\n    }\n  ]\n}"
            }
          },
          "metadata": {},
          "execution_count": 5
        }
      ]
    },
    {
      "cell_type": "code",
      "source": [
        "raw_df['PostText'].values[0]"
      ],
      "metadata": {
        "id": "hOgcVhKNxU8t",
        "colab": {
          "base_uri": "https://localhost:8080/",
          "height": 53
        },
        "outputId": "efbb1251-3afa-45e7-9e40-b69f18c16618"
      },
      "execution_count": null,
      "outputs": [
        {
          "output_type": "execute_result",
          "data": {
            "text/plain": [
              "\"Text: Nobody can read all the questions and answers that are posted here, so in this thread we invite you to share anything you'd like to highlight from the last week - an interesting discussion, an informative answer, an insightful question that was overlooked, or anything else.\""
            ],
            "application/vnd.google.colaboratory.intrinsic+json": {
              "type": "string"
            }
          },
          "metadata": {},
          "execution_count": 6
        }
      ]
    },
    {
      "cell_type": "code",
      "source": [
        "!python -m spacy download en_core_web_lg"
      ],
      "metadata": {
        "id": "aYrJ4s41AMJM"
      },
      "execution_count": null,
      "outputs": []
    },
    {
      "cell_type": "code",
      "source": [
        "nlp = spacy.load('en_core_web_lg')"
      ],
      "metadata": {
        "id": "SvUMYspWAEkF"
      },
      "execution_count": null,
      "outputs": []
    },
    {
      "cell_type": "code",
      "source": [
        "def shuffle_text(text):\n",
        "    keywords = []\n",
        "    for item in nlp(text):\n",
        "        if not item.is_stop:\n",
        "            keywords.append(item.text)\n",
        "    keywords_para = ' '.join(keywords)\n",
        "\n",
        "    # sentences = re.split(r'[.?]', keywords_para)\n",
        "    # keywords_para = ''\n",
        "    # for sentence in sentences:\n",
        "    #     if sentence != '':\n",
        "    #       word_list = sentence.split(' ')\n",
        "    #       random.shuffle(word_list)\n",
        "    #       keywords_para += \" \".join(word_list) + '. '\n",
        "    return keywords_para\n",
        "\n",
        "def extract_keywords(text):\n",
        "    try:\n",
        "        split_text = text.split(\"Text: \")\n",
        "        text = split_text[1]\n",
        "        keywords_para = shuffle_text(text)\n",
        "\n",
        "        return {\n",
        "        \"text\": text,\n",
        "        \"keywords\": keywords_para\n",
        "        }\n",
        "    except:\n",
        "        return {'text': '', 'keywords': ''}"
      ],
      "metadata": {
        "id": "ztJe_J5fIYon"
      },
      "execution_count": null,
      "outputs": []
    },
    {
      "cell_type": "code",
      "source": [
        "keywords = []\n",
        "texts = []\n",
        "for post in raw_df['PostText'].values:\n",
        "    result = extract_keywords(post)\n",
        "    keywords.append(result['keywords'])\n",
        "    texts.append(result['text'])"
      ],
      "metadata": {
        "id": "5CT0V9QLJUgI"
      },
      "execution_count": null,
      "outputs": []
    },
    {
      "cell_type": "code",
      "source": [
        "raw_df['PostText'].values[0]"
      ],
      "metadata": {
        "id": "wFkg8kScGec6"
      },
      "execution_count": null,
      "outputs": []
    },
    {
      "cell_type": "code",
      "source": [
        "df = pd.DataFrame({'text': texts, 'keywords': keywords})\n",
        "df.head()"
      ],
      "metadata": {
        "id": "vDXfiDTIPRLl"
      },
      "execution_count": null,
      "outputs": []
    },
    {
      "cell_type": "code",
      "source": [
        "df.shape"
      ],
      "metadata": {
        "id": "XpvzxjxT79r3"
      },
      "execution_count": null,
      "outputs": []
    },
    {
      "cell_type": "code",
      "source": [
        "df.to_parquet(f'{cwd}/subreddits_train_data_keywords.parquet')"
      ],
      "metadata": {
        "id": "2fMlHPoX6Oxn"
      },
      "execution_count": null,
      "outputs": []
    },
    {
      "cell_type": "code",
      "source": [
        "df = pd.read_parquet(f'{cwd}/subreddits_train_data_keywords.parquet')\n",
        "df.head()"
      ],
      "metadata": {
        "id": "x0n5oeU9EkI1",
        "colab": {
          "base_uri": "https://localhost:8080/",
          "height": 206
        },
        "outputId": "22f8b5b3-0a5f-4cdd-ba32-acb37f1d7dc4"
      },
      "execution_count": 5,
      "outputs": [
        {
          "output_type": "execute_result",
          "data": {
            "text/plain": [
              "                                                text  \\\n",
              "0  Nobody can read all the questions and answers ...   \n",
              "1  ( Please Be Aware: We expect everyone to read ...   \n",
              "2  Mods will remove questions which we deem to be...   \n",
              "3  We will remove answers which don't include a s...   \n",
              "4             These removals will be without notice.   \n",
              "\n",
              "                                            keywords  \n",
              "0  read questions answers posted , thread invite ...  \n",
              "1    ( Aware : expect read rules guidelines thread .  \n",
              "2  Mods remove questions deem involved theme place .  \n",
              "3                    remove answers include source .  \n",
              "4                                  removals notice .  "
            ],
            "text/html": [
              "\n",
              "  <div id=\"df-70c9c0fc-2792-48ac-89cd-0283f0446d8b\" class=\"colab-df-container\">\n",
              "    <div>\n",
              "<style scoped>\n",
              "    .dataframe tbody tr th:only-of-type {\n",
              "        vertical-align: middle;\n",
              "    }\n",
              "\n",
              "    .dataframe tbody tr th {\n",
              "        vertical-align: top;\n",
              "    }\n",
              "\n",
              "    .dataframe thead th {\n",
              "        text-align: right;\n",
              "    }\n",
              "</style>\n",
              "<table border=\"1\" class=\"dataframe\">\n",
              "  <thead>\n",
              "    <tr style=\"text-align: right;\">\n",
              "      <th></th>\n",
              "      <th>text</th>\n",
              "      <th>keywords</th>\n",
              "    </tr>\n",
              "  </thead>\n",
              "  <tbody>\n",
              "    <tr>\n",
              "      <th>0</th>\n",
              "      <td>Nobody can read all the questions and answers ...</td>\n",
              "      <td>read questions answers posted , thread invite ...</td>\n",
              "    </tr>\n",
              "    <tr>\n",
              "      <th>1</th>\n",
              "      <td>( Please Be Aware: We expect everyone to read ...</td>\n",
              "      <td>( Aware : expect read rules guidelines thread .</td>\n",
              "    </tr>\n",
              "    <tr>\n",
              "      <th>2</th>\n",
              "      <td>Mods will remove questions which we deem to be...</td>\n",
              "      <td>Mods remove questions deem involved theme place .</td>\n",
              "    </tr>\n",
              "    <tr>\n",
              "      <th>3</th>\n",
              "      <td>We will remove answers which don't include a s...</td>\n",
              "      <td>remove answers include source .</td>\n",
              "    </tr>\n",
              "    <tr>\n",
              "      <th>4</th>\n",
              "      <td>These removals will be without notice.</td>\n",
              "      <td>removals notice .</td>\n",
              "    </tr>\n",
              "  </tbody>\n",
              "</table>\n",
              "</div>\n",
              "    <div class=\"colab-df-buttons\">\n",
              "\n",
              "  <div class=\"colab-df-container\">\n",
              "    <button class=\"colab-df-convert\" onclick=\"convertToInteractive('df-70c9c0fc-2792-48ac-89cd-0283f0446d8b')\"\n",
              "            title=\"Convert this dataframe to an interactive table.\"\n",
              "            style=\"display:none;\">\n",
              "\n",
              "  <svg xmlns=\"http://www.w3.org/2000/svg\" height=\"24px\" viewBox=\"0 -960 960 960\">\n",
              "    <path d=\"M120-120v-720h720v720H120Zm60-500h600v-160H180v160Zm220 220h160v-160H400v160Zm0 220h160v-160H400v160ZM180-400h160v-160H180v160Zm440 0h160v-160H620v160ZM180-180h160v-160H180v160Zm440 0h160v-160H620v160Z\"/>\n",
              "  </svg>\n",
              "    </button>\n",
              "\n",
              "  <style>\n",
              "    .colab-df-container {\n",
              "      display:flex;\n",
              "      gap: 12px;\n",
              "    }\n",
              "\n",
              "    .colab-df-convert {\n",
              "      background-color: #E8F0FE;\n",
              "      border: none;\n",
              "      border-radius: 50%;\n",
              "      cursor: pointer;\n",
              "      display: none;\n",
              "      fill: #1967D2;\n",
              "      height: 32px;\n",
              "      padding: 0 0 0 0;\n",
              "      width: 32px;\n",
              "    }\n",
              "\n",
              "    .colab-df-convert:hover {\n",
              "      background-color: #E2EBFA;\n",
              "      box-shadow: 0px 1px 2px rgba(60, 64, 67, 0.3), 0px 1px 3px 1px rgba(60, 64, 67, 0.15);\n",
              "      fill: #174EA6;\n",
              "    }\n",
              "\n",
              "    .colab-df-buttons div {\n",
              "      margin-bottom: 4px;\n",
              "    }\n",
              "\n",
              "    [theme=dark] .colab-df-convert {\n",
              "      background-color: #3B4455;\n",
              "      fill: #D2E3FC;\n",
              "    }\n",
              "\n",
              "    [theme=dark] .colab-df-convert:hover {\n",
              "      background-color: #434B5C;\n",
              "      box-shadow: 0px 1px 3px 1px rgba(0, 0, 0, 0.15);\n",
              "      filter: drop-shadow(0px 1px 2px rgba(0, 0, 0, 0.3));\n",
              "      fill: #FFFFFF;\n",
              "    }\n",
              "  </style>\n",
              "\n",
              "    <script>\n",
              "      const buttonEl =\n",
              "        document.querySelector('#df-70c9c0fc-2792-48ac-89cd-0283f0446d8b button.colab-df-convert');\n",
              "      buttonEl.style.display =\n",
              "        google.colab.kernel.accessAllowed ? 'block' : 'none';\n",
              "\n",
              "      async function convertToInteractive(key) {\n",
              "        const element = document.querySelector('#df-70c9c0fc-2792-48ac-89cd-0283f0446d8b');\n",
              "        const dataTable =\n",
              "          await google.colab.kernel.invokeFunction('convertToInteractive',\n",
              "                                                    [key], {});\n",
              "        if (!dataTable) return;\n",
              "\n",
              "        const docLinkHtml = 'Like what you see? Visit the ' +\n",
              "          '<a target=\"_blank\" href=https://colab.research.google.com/notebooks/data_table.ipynb>data table notebook</a>'\n",
              "          + ' to learn more about interactive tables.';\n",
              "        element.innerHTML = '';\n",
              "        dataTable['output_type'] = 'display_data';\n",
              "        await google.colab.output.renderOutput(dataTable, element);\n",
              "        const docLink = document.createElement('div');\n",
              "        docLink.innerHTML = docLinkHtml;\n",
              "        element.appendChild(docLink);\n",
              "      }\n",
              "    </script>\n",
              "  </div>\n",
              "\n",
              "\n",
              "    <div id=\"df-fc01944c-a059-4320-b00d-61966fe2ad94\">\n",
              "      <button class=\"colab-df-quickchart\" onclick=\"quickchart('df-fc01944c-a059-4320-b00d-61966fe2ad94')\"\n",
              "                title=\"Suggest charts\"\n",
              "                style=\"display:none;\">\n",
              "\n",
              "<svg xmlns=\"http://www.w3.org/2000/svg\" height=\"24px\"viewBox=\"0 0 24 24\"\n",
              "     width=\"24px\">\n",
              "    <g>\n",
              "        <path d=\"M19 3H5c-1.1 0-2 .9-2 2v14c0 1.1.9 2 2 2h14c1.1 0 2-.9 2-2V5c0-1.1-.9-2-2-2zM9 17H7v-7h2v7zm4 0h-2V7h2v10zm4 0h-2v-4h2v4z\"/>\n",
              "    </g>\n",
              "</svg>\n",
              "      </button>\n",
              "\n",
              "<style>\n",
              "  .colab-df-quickchart {\n",
              "      --bg-color: #E8F0FE;\n",
              "      --fill-color: #1967D2;\n",
              "      --hover-bg-color: #E2EBFA;\n",
              "      --hover-fill-color: #174EA6;\n",
              "      --disabled-fill-color: #AAA;\n",
              "      --disabled-bg-color: #DDD;\n",
              "  }\n",
              "\n",
              "  [theme=dark] .colab-df-quickchart {\n",
              "      --bg-color: #3B4455;\n",
              "      --fill-color: #D2E3FC;\n",
              "      --hover-bg-color: #434B5C;\n",
              "      --hover-fill-color: #FFFFFF;\n",
              "      --disabled-bg-color: #3B4455;\n",
              "      --disabled-fill-color: #666;\n",
              "  }\n",
              "\n",
              "  .colab-df-quickchart {\n",
              "    background-color: var(--bg-color);\n",
              "    border: none;\n",
              "    border-radius: 50%;\n",
              "    cursor: pointer;\n",
              "    display: none;\n",
              "    fill: var(--fill-color);\n",
              "    height: 32px;\n",
              "    padding: 0;\n",
              "    width: 32px;\n",
              "  }\n",
              "\n",
              "  .colab-df-quickchart:hover {\n",
              "    background-color: var(--hover-bg-color);\n",
              "    box-shadow: 0 1px 2px rgba(60, 64, 67, 0.3), 0 1px 3px 1px rgba(60, 64, 67, 0.15);\n",
              "    fill: var(--button-hover-fill-color);\n",
              "  }\n",
              "\n",
              "  .colab-df-quickchart-complete:disabled,\n",
              "  .colab-df-quickchart-complete:disabled:hover {\n",
              "    background-color: var(--disabled-bg-color);\n",
              "    fill: var(--disabled-fill-color);\n",
              "    box-shadow: none;\n",
              "  }\n",
              "\n",
              "  .colab-df-spinner {\n",
              "    border: 2px solid var(--fill-color);\n",
              "    border-color: transparent;\n",
              "    border-bottom-color: var(--fill-color);\n",
              "    animation:\n",
              "      spin 1s steps(1) infinite;\n",
              "  }\n",
              "\n",
              "  @keyframes spin {\n",
              "    0% {\n",
              "      border-color: transparent;\n",
              "      border-bottom-color: var(--fill-color);\n",
              "      border-left-color: var(--fill-color);\n",
              "    }\n",
              "    20% {\n",
              "      border-color: transparent;\n",
              "      border-left-color: var(--fill-color);\n",
              "      border-top-color: var(--fill-color);\n",
              "    }\n",
              "    30% {\n",
              "      border-color: transparent;\n",
              "      border-left-color: var(--fill-color);\n",
              "      border-top-color: var(--fill-color);\n",
              "      border-right-color: var(--fill-color);\n",
              "    }\n",
              "    40% {\n",
              "      border-color: transparent;\n",
              "      border-right-color: var(--fill-color);\n",
              "      border-top-color: var(--fill-color);\n",
              "    }\n",
              "    60% {\n",
              "      border-color: transparent;\n",
              "      border-right-color: var(--fill-color);\n",
              "    }\n",
              "    80% {\n",
              "      border-color: transparent;\n",
              "      border-right-color: var(--fill-color);\n",
              "      border-bottom-color: var(--fill-color);\n",
              "    }\n",
              "    90% {\n",
              "      border-color: transparent;\n",
              "      border-bottom-color: var(--fill-color);\n",
              "    }\n",
              "  }\n",
              "</style>\n",
              "\n",
              "      <script>\n",
              "        async function quickchart(key) {\n",
              "          const quickchartButtonEl =\n",
              "            document.querySelector('#' + key + ' button');\n",
              "          quickchartButtonEl.disabled = true;  // To prevent multiple clicks.\n",
              "          quickchartButtonEl.classList.add('colab-df-spinner');\n",
              "          try {\n",
              "            const charts = await google.colab.kernel.invokeFunction(\n",
              "                'suggestCharts', [key], {});\n",
              "          } catch (error) {\n",
              "            console.error('Error during call to suggestCharts:', error);\n",
              "          }\n",
              "          quickchartButtonEl.classList.remove('colab-df-spinner');\n",
              "          quickchartButtonEl.classList.add('colab-df-quickchart-complete');\n",
              "        }\n",
              "        (() => {\n",
              "          let quickchartButtonEl =\n",
              "            document.querySelector('#df-fc01944c-a059-4320-b00d-61966fe2ad94 button');\n",
              "          quickchartButtonEl.style.display =\n",
              "            google.colab.kernel.accessAllowed ? 'block' : 'none';\n",
              "        })();\n",
              "      </script>\n",
              "    </div>\n",
              "\n",
              "    </div>\n",
              "  </div>\n"
            ],
            "application/vnd.google.colaboratory.intrinsic+json": {
              "type": "dataframe",
              "variable_name": "df",
              "summary": "{\n  \"name\": \"df\",\n  \"rows\": 77757,\n  \"fields\": [\n    {\n      \"column\": \"text\",\n      \"properties\": {\n        \"dtype\": \"string\",\n        \"num_unique_values\": 72004,\n        \"samples\": [\n          \" Is part of the kink, that me actually has to struggle and fight against it or roleplaying to not enjoy it?\",\n          \"It is, after all, the easier route: resigning yourself to the world around you, instead of trying to change it.\",\n          \"Where should I start?\"\n        ],\n        \"semantic_type\": \"\",\n        \"description\": \"\"\n      }\n    },\n    {\n      \"column\": \"keywords\",\n      \"properties\": {\n        \"dtype\": \"string\",\n        \"num_unique_values\": 70311,\n        \"samples\": [\n          \"  partner 5 months recently accidentally thinking wrong pronouns .\",\n          \"Shape slightly oval , maybe slightly tbh .\",\n          \"  asked conflicting feelings fall area trans umbrella , kinda told , actually sure trans .\"\n        ],\n        \"semantic_type\": \"\",\n        \"description\": \"\"\n      }\n    }\n  ]\n}"
            }
          },
          "metadata": {},
          "execution_count": 5
        }
      ]
    },
    {
      "cell_type": "code",
      "source": [
        "df['text'].values[2]"
      ],
      "metadata": {
        "id": "SlHALhky1G7N",
        "colab": {
          "base_uri": "https://localhost:8080/",
          "height": 35
        },
        "outputId": "3302889c-5bb8-4b3d-fda1-a77b5ea8e0e9"
      },
      "execution_count": 6,
      "outputs": [
        {
          "output_type": "execute_result",
          "data": {
            "text/plain": [
              "'Mods will remove questions which we deem to be too involved for the theme in place here.'"
            ],
            "application/vnd.google.colaboratory.intrinsic+json": {
              "type": "string"
            }
          },
          "metadata": {},
          "execution_count": 6
        }
      ]
    },
    {
      "cell_type": "code",
      "source": [
        "df['keywords'].values[2]"
      ],
      "metadata": {
        "id": "u_YfdDiY1LOV",
        "colab": {
          "base_uri": "https://localhost:8080/",
          "height": 35
        },
        "outputId": "b6fae3f1-1c1b-4338-b80e-31bb3ac8f370"
      },
      "execution_count": 7,
      "outputs": [
        {
          "output_type": "execute_result",
          "data": {
            "text/plain": [
              "'Mods remove questions deem involved theme place .'"
            ],
            "application/vnd.google.colaboratory.intrinsic+json": {
              "type": "string"
            }
          },
          "metadata": {},
          "execution_count": 7
        }
      ]
    },
    {
      "cell_type": "code",
      "source": [
        "X = df['keywords']\n",
        "y = df['text']"
      ],
      "metadata": {
        "id": "YrOo14bnPXLi"
      },
      "execution_count": 8,
      "outputs": []
    },
    {
      "cell_type": "code",
      "source": [
        "X_train, X_test, y_train, y_test = train_test_split(X, y, test_size=0.20, random_state=42)"
      ],
      "metadata": {
        "id": "xJxQaWfdPS_C"
      },
      "execution_count": 9,
      "outputs": []
    },
    {
      "cell_type": "code",
      "source": [
        "tokenizer = T5Tokenizer.from_pretrained(\"t5-small\")"
      ],
      "metadata": {
        "collapsed": true,
        "id": "9d-3XGamJp32"
      },
      "execution_count": null,
      "outputs": []
    },
    {
      "cell_type": "code",
      "source": [
        "X_train.values[0]"
      ],
      "metadata": {
        "id": "foshhKgXPfXH",
        "colab": {
          "base_uri": "https://localhost:8080/",
          "height": 35
        },
        "outputId": "1dfa7985-9652-4f07-8530-d21662a090e8"
      },
      "execution_count": 11,
      "outputs": [
        {
          "output_type": "execute_result",
          "data": {
            "text/plain": [
              "'translation language book translated english like , read ?'"
            ],
            "application/vnd.google.colaboratory.intrinsic+json": {
              "type": "string"
            }
          },
          "metadata": {},
          "execution_count": 11
        }
      ]
    },
    {
      "cell_type": "code",
      "source": [
        "y_train.values[0]"
      ],
      "metadata": {
        "id": "sghYu3fVQZ8C",
        "colab": {
          "base_uri": "https://localhost:8080/",
          "height": 35
        },
        "outputId": "63f00ba3-a0b2-41ae-f1c1-3f88c97ded70"
      },
      "execution_count": 12,
      "outputs": [
        {
          "output_type": "execute_result",
          "data": {
            "text/plain": [
              "'But if there is a translation in my language and the book itself is also already translated to english like the last two, which should I read?'"
            ],
            "application/vnd.google.colaboratory.intrinsic+json": {
              "type": "string"
            }
          },
          "metadata": {},
          "execution_count": 12
        }
      ]
    },
    {
      "cell_type": "code",
      "source": [
        "device = 'cuda' if cuda.is_available() else 'cpu'\n",
        "device"
      ],
      "metadata": {
        "id": "aL89AEDlRNNl",
        "colab": {
          "base_uri": "https://localhost:8080/",
          "height": 35
        },
        "outputId": "58f300b9-a073-473e-c000-b0fb7fc12362"
      },
      "execution_count": 13,
      "outputs": [
        {
          "output_type": "execute_result",
          "data": {
            "text/plain": [
              "'cuda'"
            ],
            "application/vnd.google.colaboratory.intrinsic+json": {
              "type": "string"
            }
          },
          "metadata": {},
          "execution_count": 13
        }
      ]
    },
    {
      "cell_type": "code",
      "source": [
        "# model = T5ForConditionalGeneration.from_pretrained(\"t5-small\")\n",
        "# model = model.to(device)\n",
        "max_source_length = 128\n",
        "max_target_length = 128\n",
        "task_prefix = \"generate: \"\n",
        "input_sequences = [task_prefix + text for text in X_train.values]\n",
        "encoding = tokenizer(\n",
        " input_sequences,\n",
        " padding=\"longest\",\n",
        " max_length=max_source_length,\n",
        " truncation=True,\n",
        " return_tensors=\"pt\",\n",
        ")"
      ],
      "metadata": {
        "id": "jZulFevuNQqh"
      },
      "execution_count": 14,
      "outputs": []
    },
    {
      "cell_type": "code",
      "source": [
        "input_ids, attention_mask = encoding.input_ids, encoding.attention_mask\n",
        "input_ids = input_ids.to(device)\n",
        "attention_mask = attention_mask.to(device)\n",
        "target_encoding = tokenizer(\n",
        " list(y_train.values),\n",
        " padding=\"longest\",\n",
        " max_length=max_target_length,\n",
        " truncation=True,\n",
        " return_tensors=\"pt\",\n",
        ")"
      ],
      "metadata": {
        "id": "pGfFcK6kJrHE"
      },
      "execution_count": 15,
      "outputs": []
    },
    {
      "cell_type": "code",
      "source": [
        "labels = target_encoding.input_ids.to(device)\n",
        "labels[labels == tokenizer.pad_token_id] = -100\n",
        "train_dataset = TensorDataset(input_ids, attention_mask, labels)\n",
        "\n",
        "batch_size = 128\n",
        "train_loader = DataLoader(train_dataset, batch_size=batch_size, shuffle=True)\n",
        "\n",
        "accumulation_steps = 4\n",
        "num_epochs = 4\n",
        "optimizer = optim.Adam(dwnld_model.parameters(), lr=0.01)\n",
        "\n",
        "for epoch in range(num_epochs):\n",
        "    print(f'Started with epoch: {epoch}')\n",
        "    for i, (input_ids_batch, attention_mask_batch, labels_batch) in enumerate(train_loader):\n",
        "        input_ids_batch = input_ids_batch.to(device)\n",
        "        attention_mask_batch = attention_mask_batch.to(device)\n",
        "        labels_batch = labels_batch.to(device)\n",
        "\n",
        "        outputs = dwnld_model(input_ids=input_ids_batch, attention_mask=attention_mask_batch, labels=labels_batch)\n",
        "        loss = outputs.loss\n",
        "\n",
        "        loss = loss/accumulation_steps\n",
        "\n",
        "        loss.backward()\n",
        "\n",
        "        if (i + 1) % accumulation_steps == 0:\n",
        "            optimizer.step()\n",
        "            optimizer.zero_grad()"
      ],
      "metadata": {
        "id": "WWDi4cXNQnOp",
        "colab": {
          "base_uri": "https://localhost:8080/"
        },
        "outputId": "0520a85f-59ef-43f6-fd9e-ccb55bdb103b"
      },
      "execution_count": 20,
      "outputs": [
        {
          "output_type": "stream",
          "name": "stdout",
          "text": [
            "Started with epoch: 0\n"
          ]
        },
        {
          "output_type": "stream",
          "name": "stderr",
          "text": [
            "Passing a tuple of `past_key_values` is deprecated and will be removed in Transformers v4.48.0. You should pass an instance of `EncoderDecoderCache` instead, e.g. `past_key_values=EncoderDecoderCache.from_legacy_cache(past_key_values)`.\n"
          ]
        },
        {
          "output_type": "stream",
          "name": "stdout",
          "text": [
            "Started with epoch: 1\n",
            "Started with epoch: 2\n",
            "Started with epoch: 3\n"
          ]
        }
      ]
    },
    {
      "cell_type": "code",
      "source": [
        "loss.item()"
      ],
      "metadata": {
        "id": "2Ec865NQTCzh",
        "colab": {
          "base_uri": "https://localhost:8080/"
        },
        "outputId": "02d18c19-0732-480a-d4cd-fa1fce056077"
      },
      "execution_count": 21,
      "outputs": [
        {
          "output_type": "execute_result",
          "data": {
            "text/plain": [
              "0.07140853255987167"
            ]
          },
          "metadata": {},
          "execution_count": 21
        }
      ]
    },
    {
      "cell_type": "code",
      "source": [
        "i = 6\n",
        "shuffled_text = X_test.values[i]\n",
        "shuffled_text"
      ],
      "metadata": {
        "id": "brgDyrLkv3M1",
        "colab": {
          "base_uri": "https://localhost:8080/",
          "height": 35
        },
        "outputId": "e6eabc19-9a4f-4794-d3d6-c77c38d81102"
      },
      "execution_count": 22,
      "outputs": [
        {
          "output_type": "execute_result",
          "data": {
            "text/plain": [
              "'prescription strength iron deal symptom .'"
            ],
            "application/vnd.google.colaboratory.intrinsic+json": {
              "type": "string"
            }
          },
          "metadata": {},
          "execution_count": 22
        }
      ]
    },
    {
      "cell_type": "code",
      "source": [
        "y_test.values[i]"
      ],
      "metadata": {
        "id": "TX5Mi7BjLyTp",
        "colab": {
          "base_uri": "https://localhost:8080/",
          "height": 35
        },
        "outputId": "5c2f051b-d319-4528-9e4a-470d245f7229"
      },
      "execution_count": 23,
      "outputs": [
        {
          "output_type": "execute_result",
          "data": {
            "text/plain": [
              "'And I already have prescription strength iron to deal with that symptom.'"
            ],
            "application/vnd.google.colaboratory.intrinsic+json": {
              "type": "string"
            }
          },
          "metadata": {},
          "execution_count": 23
        }
      ]
    },
    {
      "cell_type": "code",
      "source": [
        "shuffled_text = f\"generate: {shuffled_text}\"\n",
        "input_ids = tokenizer(shuffled_text, return_tensors=\"pt\").input_ids.to(device)\n",
        "output = dwnld_model.generate(input_ids, max_length=400)\n",
        "tokenizer.decode(output[0], skip_special_tokens=True)"
      ],
      "metadata": {
        "id": "W-w0cpSVvuBb",
        "colab": {
          "base_uri": "https://localhost:8080/",
          "height": 35
        },
        "outputId": "49ae7338-c1a7-4d27-c649-9cd232bdb47f"
      },
      "execution_count": 24,
      "outputs": [
        {
          "output_type": "execute_result",
          "data": {
            "text/plain": [
              "'My only prescription is the strength iron and that I have to deal with a symptom.'"
            ],
            "application/vnd.google.colaboratory.intrinsic+json": {
              "type": "string"
            }
          },
          "metadata": {},
          "execution_count": 24
        }
      ]
    },
    {
      "cell_type": "code",
      "source": [
        "answers_fine_tuned = []\n",
        "for ind in range(10):\n",
        "    test_text = X_test.values[ind]\n",
        "    test_text = f\"generate: {test_text}\"\n",
        "    input_ids = tokenizer(test_text, return_tensors=\"pt\").input_ids.to(device)\n",
        "    output = dwnld_model.generate(input_ids, max_length=50)\n",
        "    answers_fine_tuned.append(tokenizer.decode(output[0], skip_special_tokens=True))\n",
        "\n",
        "    print('Ground truth:', y_test.values[ind])\n",
        "    print('Prediction (fine tuned model):', answers_fine_tuned[ind])\n",
        "    print('Keywords:', X_test.values[ind])\n",
        "    print('\\n')\n",
        "    print('***'*20)"
      ],
      "metadata": {
        "id": "-y3xo2nVY6g9",
        "colab": {
          "base_uri": "https://localhost:8080/"
        },
        "outputId": "d6d1eb18-b56b-434b-aa6f-666ba7634f3a"
      },
      "execution_count": 26,
      "outputs": [
        {
          "output_type": "stream",
          "name": "stdout",
          "text": [
            "Ground truth: No one cares.\n",
            "Prediction (fine tuned model): No one cares.\n",
            "Keywords: cares .\n",
            "\n",
            "\n",
            "************************************************************\n",
            "Ground truth: liberty also makes sense to me- human beings naturally think and make decisions independently, that can’t be taken from you.\n",
            "Prediction (fine tuned model): If liberty makes sense to me- we as human beings who don't naturally think to make decisions independently, for all else to be taken.\n",
            "Keywords: liberty makes sense me- human beings naturally think decisions independently , taken .\n",
            "\n",
            "\n",
            "************************************************************\n",
            "Ground truth: Some well known specimens she worked on include Jane the juvenile Tyrannosaurus rex and Dakota the Edmontosaurus sp.\n",
            "Prediction (fine tuned model): Also any known specimens they've worked on include Jane's juvenile at Tyrannosaurus rex Dakota and the Edmontosaurus sp.\n",
            "Keywords: known specimens worked include Jane juvenile Tyrannosaurus rex Dakota Edmontosaurus sp .\n",
            "\n",
            "\n",
            "************************************************************\n",
            "Ground truth: But now that I’m finally letting it surface, I’m battling all these layers of doubt from the disorders I live with.\n",
            "Prediction (fine tuned model): And finally by letting it go to the surface, battling layers of doubt and disorder where I live.\n",
            "Keywords: finally letting surface , battling layers doubt disorders live .\n",
            "\n",
            "\n",
            "************************************************************\n",
            "Ground truth:  Im also worried that people might not end up liking me as much or viewing me differently since im much younger than the rest of my year group.\n",
            "Prediction (fine tuned model): Im worried that when I see people who end up liking me for viewing themselves so much as im younger in the rest of my year group.\n",
            "Keywords:   m worried people end liking viewing differently m younger rest year group .\n",
            "\n",
            "\n",
            "************************************************************\n",
            "Ground truth:  I’m not bitter — just trying to understand where the line is.\n",
            "Prediction (fine tuned model): This is bitter—and I’m trying to understand the line.\n",
            "Keywords:   bitter — trying understand line .\n",
            "\n",
            "\n",
            "************************************************************\n",
            "Ground truth: And I already have prescription strength iron to deal with that symptom.\n",
            "Prediction (fine tuned model): My only prescription is the strength iron and that I have to deal with a symptom.\n",
            "Keywords: prescription strength iron deal symptom .\n",
            "\n",
            "\n",
            "************************************************************\n",
            "Ground truth: If we attend to the essence of any caused thing— not considering whether the thing actually exists or not—we shall find that this essence involves neither existence nor duration.\n",
            "Prediction (fine tuned model): If we will attend to essence as it is what caused the thing—and considering that if one thing actually exists—we shall find essence that it involves the same existence and duration.\n",
            "Keywords: attend essence caused thing — considering thing actually exists — shall find essence involves existence duration .\n",
            "\n",
            "\n",
            "************************************************************\n",
            "Ground truth: Or is it specifically referring to dogs that live with humans ?\n",
            "Prediction (fine tuned model): Also specifically referring to dogs who live with humans?\n",
            "Keywords: specifically referring dogs live humans ?\n",
            "\n",
            "\n",
            "************************************************************\n",
            "Ground truth: Basically Tinder for cheating .\n",
            "Prediction (fine tuned model): Basically the Tinder I am cheating on.\n",
            "Keywords: Basically Tinder cheating .\n",
            "\n",
            "\n",
            "************************************************************\n"
          ]
        }
      ]
    },
    {
      "cell_type": "code",
      "source": [
        "!huggingface-cli login"
      ],
      "metadata": {
        "id": "A8iZA8x4dnff"
      },
      "execution_count": null,
      "outputs": []
    },
    {
      "cell_type": "code",
      "source": [
        "token = HfFolder.get_token()\n",
        "if token is None:\n",
        "  raise ValueError(\"You must be logged into the Hugging Face CLI\")"
      ],
      "metadata": {
        "id": "u8ixugt_denZ"
      },
      "execution_count": 17,
      "outputs": []
    },
    {
      "cell_type": "code",
      "source": [
        "repo_name = \"SubredditSummarizer\"\n",
        "username = 'saurabhkumar3400'\n",
        "\n",
        "repo_path = os.path.join(username, repo_name)\n",
        "\n",
        "# create_repo(repo_path, token=HfFolder.get_token(), exist_ok=True)"
      ],
      "metadata": {
        "id": "BTAN21uUefnv"
      },
      "execution_count": 18,
      "outputs": []
    },
    {
      "cell_type": "code",
      "source": [
        "repo = Repository(repo_path, clone_from=f\"{repo_path}\", use_auth_token=True)\n",
        "dwnld_model.save_pretrained(repo_path)\n",
        "tokenizer.save_pretrained(repo_path)\n",
        "repo.push_to_hub(commit_message=\"sentence level, n_epochs = 12\")"
      ],
      "metadata": {
        "id": "zPEqdDeVRbTg"
      },
      "execution_count": null,
      "outputs": []
    },
    {
      "cell_type": "code",
      "source": [
        "model_repo = os.path.join(username, repo_name)\n",
        "dwnld_tokenizer = T5Tokenizer.from_pretrained(model_repo)\n",
        "dwnld_model = T5ForConditionalGeneration.from_pretrained(model_repo)\n",
        "dwnld_model = dwnld_model.to(device)"
      ],
      "metadata": {
        "id": "lPcbsdikSHHg"
      },
      "execution_count": null,
      "outputs": []
    },
    {
      "cell_type": "code",
      "source": [
        "X_test.shape"
      ],
      "metadata": {
        "id": "xHYvy99wI_HY",
        "colab": {
          "base_uri": "https://localhost:8080/"
        },
        "outputId": "135f1375-1daf-4dc4-f53f-0c21f75ed55c"
      },
      "execution_count": 28,
      "outputs": [
        {
          "output_type": "execute_result",
          "data": {
            "text/plain": [
              "(15552,)"
            ]
          },
          "metadata": {},
          "execution_count": 28
        }
      ]
    },
    {
      "cell_type": "code",
      "source": [
        "answers_fine_tuned = []\n",
        "batch_size = 100\n",
        "for test_text in X_test.values[:batch_size]:\n",
        "    test_text = f\"generate: {test_text}\"\n",
        "    input_ids = dwnld_tokenizer(test_text, return_tensors=\"pt\").input_ids.to(device)\n",
        "    output = dwnld_model.generate(input_ids, max_length=50, num_return_sequences=1)\n",
        "    answers_fine_tuned.append(dwnld_tokenizer.decode(output[0], skip_special_tokens=True))"
      ],
      "metadata": {
        "id": "ZEEJJu3UXdpw"
      },
      "execution_count": 29,
      "outputs": []
    },
    {
      "cell_type": "code",
      "source": [
        "rouge_metric = rouge_scorer.RougeScorer(['rouge1', 'rougeL'], use_stemmer=True)"
      ],
      "metadata": {
        "id": "wH4R6KZ96eEH"
      },
      "execution_count": 30,
      "outputs": []
    },
    {
      "cell_type": "code",
      "source": [
        "def print_rouge(rouge_n):\n",
        "\n",
        "  fine_tuned_rouge1_prec = [rouge_metric.score(y_test.values[ind], answers_fine_tuned[ind])[rouge_n].precision for ind in range(batch_size)]\n",
        "\n",
        "  fine_tuned_rouge1_recall = [rouge_metric.score(y_test.values[ind], answers_fine_tuned[ind])[rouge_n].recall for ind in range(batch_size)]\n",
        "\n",
        "  fine_tuned_rouge1_fscore = [rouge_metric.score(y_test.values[ind], answers_fine_tuned[ind])[rouge_n].fmeasure for ind in range(batch_size)]\n",
        "\n",
        "  print('Fine-tuned model (precision):', np.mean(fine_tuned_rouge1_prec))\n",
        "  print('\\n')\n",
        "  print('Fine-tuned model (recall):', np.mean(fine_tuned_rouge1_recall))\n",
        "  print('\\n')\n",
        "  print('Fine-tuned model (fscore):', np.mean(fine_tuned_rouge1_fscore))"
      ],
      "metadata": {
        "id": "0LVj_0Ej6ke5"
      },
      "execution_count": 31,
      "outputs": []
    },
    {
      "cell_type": "code",
      "source": [
        "print_rouge('rouge1')"
      ],
      "metadata": {
        "id": "mEbpCoW0Gw17",
        "colab": {
          "base_uri": "https://localhost:8080/"
        },
        "outputId": "abbfc407-7422-45ee-b9be-e49879d99b92"
      },
      "execution_count": 32,
      "outputs": [
        {
          "output_type": "stream",
          "name": "stdout",
          "text": [
            "Fine-tuned model (precision): 0.6665678252096506\n",
            "\n",
            "\n",
            "Fine-tuned model (recall): 0.6401044119268188\n",
            "\n",
            "\n",
            "Fine-tuned model (fscore): 0.6413520623715152\n"
          ]
        }
      ]
    },
    {
      "cell_type": "code",
      "source": [
        "print_rouge('rougeL')"
      ],
      "metadata": {
        "id": "AEWPzpqaG091",
        "colab": {
          "base_uri": "https://localhost:8080/"
        },
        "outputId": "45054da2-9239-401d-8c01-008b6e61291e"
      },
      "execution_count": 33,
      "outputs": [
        {
          "output_type": "stream",
          "name": "stdout",
          "text": [
            "Fine-tuned model (precision): 0.630011091964963\n",
            "\n",
            "\n",
            "Fine-tuned model (recall): 0.6069272384565406\n",
            "\n",
            "\n",
            "Fine-tuned model (fscore): 0.6071608620289052\n"
          ]
        }
      ]
    },
    {
      "cell_type": "code",
      "source": [
        "weights = (0.25, 0.25, 0, 0)  # Weights for uni-gram, bi-gram, tri-gram, and 4-gram\n",
        "\n",
        "fine_tuned_bleu = [sentence_bleu([y_test.values[ind].split()], answers_fine_tuned[ind].split(), weights=weights, smoothing_function=SmoothingFunction().method1) for ind in range(batch_size)]\n",
        "print('Fine-tuned model:', np.mean(fine_tuned_bleu))"
      ],
      "metadata": {
        "id": "HqJVggMQ7OTv",
        "colab": {
          "base_uri": "https://localhost:8080/"
        },
        "outputId": "28b0c065-8149-4844-a47c-88a1a4e890eb"
      },
      "execution_count": 34,
      "outputs": [
        {
          "output_type": "stream",
          "name": "stdout",
          "text": [
            "Fine-tuned model: 0.5443055672556957\n"
          ]
        }
      ]
    },
    {
      "cell_type": "code",
      "source": [
        "# BERTScore calculation\n",
        "bert_scorer = BERTScorer(model_type='bert-base-uncased')"
      ],
      "metadata": {
        "id": "SRxm88A6APGU",
        "collapsed": true
      },
      "execution_count": null,
      "outputs": []
    },
    {
      "cell_type": "code",
      "source": [
        "bert_scores = [bert_scorer.score([answers_fine_tuned[ind]], [y_test.values[ind]]) for ind in range(batch_size)]\n",
        "precision = [bert_scores[ind][0] for ind in range(batch_size)]\n",
        "recall = [bert_scores[ind][1] for ind in range(batch_size)]\n",
        "f1 = [bert_scores[ind][2] for ind in range(batch_size)]\n",
        "print('Fine-tuned model (precision):', np.mean(precision))\n",
        "print('Fine-tuned model (recall):', np.mean(recall))\n",
        "print('Fine-tuned model (fscore):', np.mean(f1))"
      ],
      "metadata": {
        "id": "_Dt1tUlwAgZ_",
        "colab": {
          "base_uri": "https://localhost:8080/"
        },
        "outputId": "61322698-35b7-44a5-9f85-90504b080504"
      },
      "execution_count": 36,
      "outputs": [
        {
          "output_type": "stream",
          "name": "stderr",
          "text": [
            "Warning: Empty candidate sentence detected; setting raw BERTscores to 0.\n",
            "Warning: Empty reference sentence detected; setting raw BERTScores to 0.\n",
            "Warning: Empty candidate sentence detected; setting raw BERTscores to 0.\n",
            "Warning: Empty reference sentence detected; setting raw BERTScores to 0.\n"
          ]
        },
        {
          "output_type": "stream",
          "name": "stdout",
          "text": [
            "Fine-tuned model (precision): 0.7505014\n",
            "Fine-tuned model (recall): 0.73511404\n",
            "Fine-tuned model (fscore): 0.7406674\n"
          ]
        }
      ]
    },
    {
      "cell_type": "code",
      "source": [
        "space = {\n",
        " 'learning_rate': hp.loguniform('learning_rate', -2, -1),\n",
        " 'per_device_train_batch_size': hp.choice( 'per_device_train_batch_size', [8, 16, 32, 64]),\n",
        " 'num_train_epochs': hp.choice('num_train_epochs', [1, 2, 3]),\n",
        " 'weight_decay': hp.uniform('weight_decay', 0.0, 0.3),\n",
        "}"
      ],
      "metadata": {
        "id": "IpWuBu5NTZ4D"
      },
      "execution_count": null,
      "outputs": []
    },
    {
      "cell_type": "code",
      "source": [
        "train_data = pd.DataFrame({'text': X_train.values, 'labels': y_train.values})\n",
        "train_data.head()"
      ],
      "metadata": {
        "id": "oBRwSg2hVjaL"
      },
      "execution_count": null,
      "outputs": []
    },
    {
      "cell_type": "code",
      "source": [
        "test_data = pd.DataFrame({'text': X_test.values, 'labels': y_test.values})\n",
        "test_data.head()"
      ],
      "metadata": {
        "id": "kAB7m-mHVxIc"
      },
      "execution_count": null,
      "outputs": []
    },
    {
      "cell_type": "code",
      "source": [
        "class RedditDataset(torch.utils.data.Dataset):\n",
        "    def __init__(self, encodings, labels):\n",
        "        self.encodings = encodings\n",
        "        self.labels = labels\n",
        "\n",
        "    def __getitem__(self, idx):\n",
        "        item = {key: torch.tensor(val[idx]) for key, val in self.encodings.items()}\n",
        "        item['labels'] = torch.tensor(self.labels['input_ids'][idx])\n",
        "        return item\n",
        "\n",
        "    def __len__(self):\n",
        "        return len(self.labels['input_ids'])"
      ],
      "metadata": {
        "id": "f5Q_sbRKbrSn"
      },
      "execution_count": null,
      "outputs": []
    },
    {
      "cell_type": "code",
      "source": [
        "train_encodings = dwnld_tokenizer(list(X_train.values), truncation=True, padding=True)\n",
        "test_encodings = dwnld_tokenizer(list(X_test.values), truncation=True, padding=True)\n",
        "\n",
        "train_label_encodings = dwnld_tokenizer(list(y_train.values), truncation=True, padding=True)\n",
        "test_label_encodings = dwnld_tokenizer(list(y_test.values), truncation=True, padding=True)"
      ],
      "metadata": {
        "id": "aECItIwDcdvM"
      },
      "execution_count": null,
      "outputs": []
    },
    {
      "cell_type": "code",
      "source": [
        "train_dataset = RedditDataset(train_encodings, train_label_encodings)\n",
        "test_dataset = RedditDataset(test_encodings, test_label_encodings)"
      ],
      "metadata": {
        "id": "t-BaNw15WoY8"
      },
      "execution_count": null,
      "outputs": []
    },
    {
      "cell_type": "code",
      "source": [
        "def objective(hyperparams):\n",
        "    model_repo = os.path.join(username, repo_name)\n",
        "    dwnld_tokenizer = T5Tokenizer.from_pretrained(model_repo)\n",
        "    dwnld_model = T5ForConditionalGeneration.from_pretrained(model_repo)\n",
        "    dwnld_model = dwnld_model.to(device)\n",
        "\n",
        "    training_args = TrainingArguments(\n",
        "        output_dir=model_repo,\n",
        "        learning_rate=hyperparams['learning_rate'],\n",
        "        per_device_train_batch_size=hyperparams['per_device_train_batch_size'],\n",
        "        num_train_epochs=hyperparams['num_train_epochs'],\n",
        "        weight_decay=hyperparams['weight_decay'],\n",
        "        eval_strategy=\"epoch\",\n",
        "        save_strategy=\"epoch\",\n",
        "        load_best_model_at_end=True,\n",
        "        push_to_hub=False,\n",
        "        report_to=None\n",
        "    )\n",
        "\n",
        "    trainer = Trainer(\n",
        "        model=dwnld_model,\n",
        "        args=training_args,\n",
        "        train_dataset=train_dataset,\n",
        "        eval_dataset=test_dataset,\n",
        "    )\n",
        "\n",
        "    trainer.train()\n",
        "    eval_results = trainer.evaluate()\n",
        "    return {'loss': eval_results[\"eval_loss\"], 'status': STATUS_OK}"
      ],
      "metadata": {
        "id": "z7I1p3h8TlcH"
      },
      "execution_count": null,
      "outputs": []
    },
    {
      "cell_type": "code",
      "source": [
        "pip install wandb"
      ],
      "metadata": {
        "id": "RERNNpd6Yi_O"
      },
      "execution_count": null,
      "outputs": []
    },
    {
      "cell_type": "code",
      "source": [
        "wandb login"
      ],
      "metadata": {
        "id": "6ZmFWXpRYnvB"
      },
      "execution_count": null,
      "outputs": []
    },
    {
      "cell_type": "code",
      "source": [
        "best = fmin(\n",
        "    fn=objective,\n",
        "    space=space,\n",
        "    max_evals=3,\n",
        "    trials=Trials()\n",
        ")"
      ],
      "metadata": {
        "id": "F80HOw--VIeK"
      },
      "execution_count": null,
      "outputs": []
    }
  ]
}