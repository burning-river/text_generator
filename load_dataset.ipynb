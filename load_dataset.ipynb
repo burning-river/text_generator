{
 "cells": [
  {
   "cell_type": "code",
   "execution_count": 22,
   "id": "f2def80c-29f2-4d4d-88b9-cae67a34d9d0",
   "metadata": {},
   "outputs": [],
   "source": [
    "import requests\n",
    "import pandas as pd\n",
    "import boto3\n",
    "from io import StringIO\n",
    "import json\n",
    "import s3fs\n",
    "from io import BytesIO\n",
    "from pyspark.sql import SparkSession\n",
    "from time import time\n",
    "import os\n",
    "from pyspark import SparkConf\n",
    "from pyspark.sql import SparkSession\n",
    "from pyspark.sql.functions import regexp_replace, udf\n",
    "import re\n",
    "from pyspark.sql.types import StringType"
   ]
  },
  {
   "cell_type": "code",
   "execution_count": 2,
   "id": "fc601fd4-9a0d-4300-9a0e-6ea2de590dfd",
   "metadata": {},
   "outputs": [],
   "source": [
    "s3_bucket = 'reddit-tifu'\n",
    "filename = \"tifu_all_tokenized_and_filtered.json\""
   ]
  },
  {
   "cell_type": "code",
   "execution_count": 3,
   "id": "7701d702-4fa5-4c35-b21a-92745073bca6",
   "metadata": {},
   "outputs": [],
   "source": [
    "AWS_ACCESS_KEY_ID = '**'\n",
    "AWS_SECRET_ACCESS_KEY = '**'"
   ]
  },
  {
   "cell_type": "code",
   "execution_count": 4,
   "id": "aa2a8aa1-12fd-4ce2-a9e3-38503af5cfa4",
   "metadata": {
    "scrolled": true
   },
   "outputs": [],
   "source": [
    "def read_json_from_s3(s3_bucket, filename, AWS_ACCESS_KEY_ID, AWS_SECRET_ACCESS_KEY):\n",
    "    s3 = boto3.client('s3', aws_access_key_id=AWS_ACCESS_KEY_ID,\n",
    "                          aws_secret_access_key=AWS_SECRET_ACCESS_KEY)\n",
    "    obj = s3.get_object(Bucket=s3_bucket, Key=filename)\n",
    "    df = pd.read_json(BytesIO(obj['Body'].read()), lines = True)\n",
    "\n",
    "    return df"
   ]
  },
  {
   "cell_type": "code",
   "execution_count": 113,
   "id": "946311b0-2da0-4a32-930a-99ecc8d386f4",
   "metadata": {},
   "outputs": [],
   "source": [
    "def save_to_s3_as_parquet(df, bucket_name, object_name, access_key_id, secret_access_key):\n",
    "    s3_resource = boto3.resource('s3', aws_access_key_id=access_key_id, aws_secret_access_key=secret_access_key)\n",
    "    parquet_buffer = BytesIO()\n",
    "    df.to_parquet(parquet_buffer, index=False, compression='snappy')\n",
    "    s3_resource.Object(bucket_name, object_name).put(Body=parquet_buffer.getvalue())"
   ]
  },
  {
   "cell_type": "code",
   "execution_count": 5,
   "id": "98f5161f-7c15-4a18-bcc7-9352cddb5fb4",
   "metadata": {},
   "outputs": [],
   "source": [
    "def process_and_save_data():\n",
    "    df = read_json_from_s3(s3_bucket, filename, AWS_ACCESS_KEY_ID, AWS_SECRET_ACCESS_KEY)\n",
    "    parquet_filename = 'tifu_subset_tokenized_and_filtered.snappy.parquet'\n",
    "    save_to_s3_as_parquet(df, s3_bucket, parquet_filename, AWS_ACCESS_KEY_ID, AWS_SECRET_ACCESS_KEY)"
   ]
  },
  {
   "cell_type": "code",
   "execution_count": 4,
   "id": "2cd677a9-650f-4bf3-9be4-0bbc610875dd",
   "metadata": {},
   "outputs": [
    {
     "name": "stdout",
     "output_type": "stream",
     "text": [
      ":: loading settings :: url = jar:file:/home/ec2-user/.local/lib/python3.9/site-packages/pyspark/jars/ivy-2.5.1.jar!/org/apache/ivy/core/settings/ivysettings.xml\n"
     ]
    },
    {
     "name": "stderr",
     "output_type": "stream",
     "text": [
      "Ivy Default Cache set to: /home/ec2-user/.ivy2/cache\n",
      "The jars for the packages stored in: /home/ec2-user/.ivy2/jars\n",
      "org.apache.hadoop#hadoop-aws added as a dependency\n",
      ":: resolving dependencies :: org.apache.spark#spark-submit-parent-0743534b-ae37-4649-ab13-848a72def655;1.0\n",
      "\tconfs: [default]\n",
      "\tfound org.apache.hadoop#hadoop-aws;3.3.4 in central\n",
      "\tfound com.amazonaws#aws-java-sdk-bundle;1.12.262 in central\n",
      "\tfound org.wildfly.openssl#wildfly-openssl;1.0.7.Final in central\n",
      ":: resolution report :: resolve 369ms :: artifacts dl 9ms\n",
      "\t:: modules in use:\n",
      "\tcom.amazonaws#aws-java-sdk-bundle;1.12.262 from central in [default]\n",
      "\torg.apache.hadoop#hadoop-aws;3.3.4 from central in [default]\n",
      "\torg.wildfly.openssl#wildfly-openssl;1.0.7.Final from central in [default]\n",
      "\t---------------------------------------------------------------------\n",
      "\t|                  |            modules            ||   artifacts   |\n",
      "\t|       conf       | number| search|dwnlded|evicted|| number|dwnlded|\n",
      "\t---------------------------------------------------------------------\n",
      "\t|      default     |   3   |   0   |   0   |   0   ||   3   |   0   |\n",
      "\t---------------------------------------------------------------------\n",
      ":: retrieving :: org.apache.spark#spark-submit-parent-0743534b-ae37-4649-ab13-848a72def655\n",
      "\tconfs: [default]\n",
      "\t0 artifacts copied, 3 already retrieved (0kB/7ms)\n",
      "25/04/12 20:23:57 WARN NativeCodeLoader: Unable to load native-hadoop library for your platform... using builtin-java classes where applicable\n",
      "Setting default log level to \"WARN\".\n",
      "To adjust logging level use sc.setLogLevel(newLevel). For SparkR, use setLogLevel(newLevel).\n"
     ]
    }
   ],
   "source": [
    "conf = SparkConf()\n",
    "\n",
    "conf.setAll([\n",
    "    (\"spark.jars.packages\", \"org.apache.hadoop:hadoop-aws:3.3.4\"),\n",
    "    (\"spark.hadoop.fs.s3a.access.key\", AWS_ACCESS_KEY_ID),\n",
    "    (\"spark.hadoop.fs.s3a.secret.key\", AWS_SECRET_ACCESS_KEY)\n",
    "])\n",
    "\n",
    "spark = SparkSession.builder \\\n",
    "    .master(\"local[*]\") \\\n",
    "    .config(conf=conf) \\\n",
    "    .appName(\"read-s3-with-spark\") \\\n",
    "    .getOrCreate()"
   ]
  },
  {
   "cell_type": "code",
   "execution_count": 6,
   "id": "e2708554-3fc6-45a4-9db6-ff484cc8bce6",
   "metadata": {
    "scrolled": true
   },
   "outputs": [
    {
     "name": "stderr",
     "output_type": "stream",
     "text": [
      "25/04/12 20:24:14 WARN MetricsConfig: Cannot locate configuration: tried hadoop-metrics2-s3a-file-system.properties,hadoop-metrics2.properties\n",
      "                                                                                "
     ]
    }
   ],
   "source": [
    "df = spark.read.parquet(f\"s3a://{s3_bucket}/tifu_all_tokenized_and_filtered.snappy.parquet\")"
   ]
  },
  {
   "cell_type": "code",
   "execution_count": 7,
   "id": "fb17e70d-bcb4-40ae-865b-f68a25941e90",
   "metadata": {},
   "outputs": [
    {
     "data": {
      "text/plain": [
       "['title_tokenized',\n",
       " 'permalink',\n",
       " 'title',\n",
       " 'url',\n",
       " 'num_comments',\n",
       " 'tldr',\n",
       " 'created_utc',\n",
       " 'trimmed_title_tokenized',\n",
       " 'id',\n",
       " 'selftext_html',\n",
       " 'score',\n",
       " 'upvote_ratio',\n",
       " 'selftext',\n",
       " 'trimmed_title',\n",
       " 'selftext_without_tldr_tokenized',\n",
       " 'ups',\n",
       " 'selftext_without_tldr',\n",
       " 'tldr_tokenized']"
      ]
     },
     "execution_count": 7,
     "metadata": {},
     "output_type": "execute_result"
    }
   ],
   "source": [
    "df.columns"
   ]
  },
  {
   "cell_type": "code",
   "execution_count": 8,
   "id": "0e0b8585-52ae-4919-882d-bcc1aa087376",
   "metadata": {},
   "outputs": [
    {
     "name": "stderr",
     "output_type": "stream",
     "text": [
      "                                                                                "
     ]
    },
    {
     "name": "stdout",
     "output_type": "stream",
     "text": [
      "+---------------------------------------------------------------------------------------------------------------------------------------------------------------------------------------------------------------------------------------------------------------------------------------------+\n",
      "|selftext                                                                                                                                                                                                                                                                                     |\n",
      "+---------------------------------------------------------------------------------------------------------------------------------------------------------------------------------------------------------------------------------------------------------------------------------------------+\n",
      "|I was on Skype on my tablet as I went to the toilet IMing a friend. I don't multitask very well, so I forgot one of the most important things to do before pooping. I think the best part was when I realised and told my mate who just freaked out because I was talking to him on the John!|\n",
      "+---------------------------------------------------------------------------------------------------------------------------------------------------------------------------------------------------------------------------------------------------------------------------------------------+\n",
      "only showing top 1 row\n",
      "\n"
     ]
    }
   ],
   "source": [
    "df.select('selftext').show(1, truncate=False)"
   ]
  },
  {
   "cell_type": "code",
   "execution_count": 9,
   "id": "457be62c-1bf6-4ade-9462-98e2d936a0e8",
   "metadata": {},
   "outputs": [
    {
     "name": "stderr",
     "output_type": "stream",
     "text": [
      "[Stage 4:=============================>                             (1 + 1) / 2]"
     ]
    },
    {
     "name": "stdout",
     "output_type": "stream",
     "text": [
      "+-------------------------------------------------------------------------------------------------------------------------------------------------------------------------------------------------------------------------------------------------------------------------------------------------------------------------------------------------------------+\n",
      "|selftext_html                                                                                                                                                                                                                                                                                                                                                |\n",
      "+-------------------------------------------------------------------------------------------------------------------------------------------------------------------------------------------------------------------------------------------------------------------------------------------------------------------------------------------------------------+\n",
      "|<!-- SC_OFF --><div class=\"md\"><p>I was on Skype on my tablet as I went to the toilet IMing a friend. I don&#39;t multitask very well, so I forgot one of the most important things to do before pooping. I think the best part was when I realised and told my mate who just freaked out because I was talking to him on the John!</p>\\n</div><!-- SC_ON -->|\n",
      "+-------------------------------------------------------------------------------------------------------------------------------------------------------------------------------------------------------------------------------------------------------------------------------------------------------------------------------------------------------------+\n",
      "only showing top 1 row\n",
      "\n"
     ]
    },
    {
     "name": "stderr",
     "output_type": "stream",
     "text": [
      "                                                                                "
     ]
    }
   ],
   "source": [
    "df.select('selftext_html').show(1, truncate=False)"
   ]
  },
  {
   "cell_type": "code",
   "execution_count": 63,
   "id": "b4f15115-c124-4134-a16b-65accfcf2589",
   "metadata": {},
   "outputs": [],
   "source": [
    "def clean_text(df):\n",
    "    col = 'selftext_html'\n",
    "    # remove HTML tags\n",
    "    df = df.withColumn(col, regexp_replace(col, \".*<p>\", \"\"))\n",
    "    df = df.withColumn(col, regexp_replace(col, \"</p>(?s).*\", \"\"))\n",
    "    # remove punctuation codes\n",
    "    df = df.withColumn(col, regexp_replace(col, \"&#33;\", \"!\"))\n",
    "    df = df.withColumn(col, regexp_replace(col, \"&#34;\", \"\\\"\"))\n",
    "    df = df.withColumn(col, regexp_replace(col, \"&#35;\", \"#\"))\n",
    "    df = df.withColumn(col, regexp_replace(col, \"&#37;\", \"%\"))\n",
    "    df = df.withColumn(col, regexp_replace(col, \"&#38;\", \"&\"))\n",
    "    df = df.withColumn(col, regexp_replace(col, \"&#39;\", \"'\"))\n",
    "    df = df.withColumn(col, regexp_replace(col, \"&#40;\", \"(\"))\n",
    "    df = df.withColumn(col, regexp_replace(col, \"&#41;\", \")\"))\n",
    "    df = df.withColumn(col, regexp_replace(col, \"&#42;\", \"*\"))\n",
    "    df = df.withColumn(col, regexp_replace(col, \"&#44;\", \",\"))\n",
    "    df = df.withColumn(col, regexp_replace(col, \"&#46;\", \".\"))\n",
    "    df = df.withColumn(col, regexp_replace(col, \"&#47;\", \"/\"))\n",
    "    df = df.withColumn(col, regexp_replace(col, \"&#58;\", \":\"))\n",
    "    df = df.withColumn(col, regexp_replace(col, \"&#59;\", \";\"))\n",
    "    df = df.withColumn(col, regexp_replace(col, \"&#63;\", \"?\"))\n",
    "    df = df.withColumn(col, regexp_replace(col, \"&#64;\", \"@\"))\n",
    "    \n",
    "    return df"
   ]
  },
  {
   "cell_type": "code",
   "execution_count": 71,
   "id": "ca3eb2c2-b95a-44b0-8cf2-29ccebdd0232",
   "metadata": {},
   "outputs": [],
   "source": [
    "df_cleaned = clean_text(df)"
   ]
  },
  {
   "cell_type": "code",
   "execution_count": 72,
   "id": "54a73027-de8d-43b2-9021-e47526e9116b",
   "metadata": {},
   "outputs": [
    {
     "name": "stderr",
     "output_type": "stream",
     "text": [
      "[Stage 28:=============================>                            (1 + 1) / 2]"
     ]
    },
    {
     "name": "stdout",
     "output_type": "stream",
     "text": [
      "+---------------------------------------------------------------------------------------------------------------------------------------------------------------------------------------------------------------------------------------------------------------------------------------------+\n",
      "|selftext_html                                                                                                                                                                                                                                                                                |\n",
      "+---------------------------------------------------------------------------------------------------------------------------------------------------------------------------------------------------------------------------------------------------------------------------------------------+\n",
      "|I was on Skype on my tablet as I went to the toilet IMing a friend. I don't multitask very well, so I forgot one of the most important things to do before pooping. I think the best part was when I realised and told my mate who just freaked out because I was talking to him on the John!|\n",
      "+---------------------------------------------------------------------------------------------------------------------------------------------------------------------------------------------------------------------------------------------------------------------------------------------+\n",
      "only showing top 1 row\n",
      "\n"
     ]
    },
    {
     "name": "stderr",
     "output_type": "stream",
     "text": [
      "                                                                                "
     ]
    }
   ],
   "source": [
    "df_cleaned.select('selftext_html').show(1, truncate=False)"
   ]
  },
  {
   "cell_type": "code",
   "execution_count": 69,
   "id": "255c4124-a230-4ca9-b300-12e61b160d1f",
   "metadata": {},
   "outputs": [
    {
     "name": "stdout",
     "output_type": "stream",
     "text": [
      "+-----------------------------------------------------+\n",
      "|trimmed_title                                        |\n",
      "+-----------------------------------------------------+\n",
      "|forgetting to pull my underwear down before i pooped.|\n",
      "+-----------------------------------------------------+\n",
      "only showing top 1 row\n",
      "\n"
     ]
    }
   ],
   "source": [
    "df.select('trimmed_title').show(1, truncate=False)"
   ]
  },
  {
   "cell_type": "code",
   "execution_count": 78,
   "id": "f44ef3b0-bf2d-44ae-bfaa-ae9eeaa33271",
   "metadata": {},
   "outputs": [],
   "source": [
    "from pyspark.sql.functions import col, concat, lit"
   ]
  },
  {
   "cell_type": "code",
   "execution_count": 96,
   "id": "69763544-c599-4730-af1e-5800563dd672",
   "metadata": {},
   "outputs": [],
   "source": [
    "def text_summary(df):\n",
    "    df = df.withColumn(\"Prompt\",\n",
    "        concat(\n",
    "            lit(\"Text: \"), col(\"selftext_html\"),\n",
    "            lit(\" \\nTitle: \"), col(\"trimmed_title\"), \n",
    "            lit(\" ####\"))\n",
    "                      )\n",
    "    \n",
    "    return df.select(\"Prompt\")"
   ]
  },
  {
   "cell_type": "code",
   "execution_count": 97,
   "id": "4393f63e-3cc4-42c4-9a7c-2947ff18f057",
   "metadata": {},
   "outputs": [],
   "source": [
    "df_llm = text_summary(df_cleaned)"
   ]
  },
  {
   "cell_type": "code",
   "execution_count": 107,
   "id": "ccfafd6f-7eac-4f11-9eed-e5639312e042",
   "metadata": {},
   "outputs": [
    {
     "name": "stderr",
     "output_type": "stream",
     "text": [
      "[Stage 44:============>     (2 + 1) / 3][Stage 48:>                 (0 + 1) / 2]"
     ]
    },
    {
     "name": "stdout",
     "output_type": "stream",
     "text": [
      "+-----------------------------------------------------------------------------------------------------------------------------------------------------------------------------------------------------------------------------------------------------------------------------------------------------------------------------------------------------------------------+\n",
      "|Prompt                                                                                                                                                                                                                                                                                                                                                                 |\n",
      "+-----------------------------------------------------------------------------------------------------------------------------------------------------------------------------------------------------------------------------------------------------------------------------------------------------------------------------------------------------------------------+\n",
      "|Text: I was on Skype on my tablet as I went to the toilet IMing a friend. I don't multitask very well, so I forgot one of the most important things to do before pooping. I think the best part was when I realised and told my mate who just freaked out because I was talking to him on the John! \\nTitle: forgetting to pull my underwear down before i pooped. ####|\n",
      "+-----------------------------------------------------------------------------------------------------------------------------------------------------------------------------------------------------------------------------------------------------------------------------------------------------------------------------------------------------------------------+\n",
      "only showing top 1 row\n",
      "\n"
     ]
    },
    {
     "name": "stderr",
     "output_type": "stream",
     "text": [
      "[Stage 44:======================================>                   (2 + 1) / 3]"
     ]
    }
   ],
   "source": [
    "df_llm.show(1, truncate=False)"
   ]
  },
  {
   "cell_type": "code",
   "execution_count": 119,
   "id": "4580ef95-a015-44fb-acc4-f52b0897453a",
   "metadata": {},
   "outputs": [
    {
     "name": "stderr",
     "output_type": "stream",
     "text": [
      "Exception in thread \"serve-DataFrame\" java.net.SocketTimeoutException: Accept timed out\n",
      "\tat java.base/java.net.PlainSocketImpl.socketAccept(Native Method)\n",
      "\tat java.base/java.net.AbstractPlainSocketImpl.accept(AbstractPlainSocketImpl.java:474)\n",
      "\tat java.base/java.net.ServerSocket.implAccept(ServerSocket.java:565)\n",
      "\tat java.base/java.net.ServerSocket.accept(ServerSocket.java:533)\n",
      "\tat org.apache.spark.security.SocketAuthServer$$anon$1.run(SocketAuthServer.scala:65)\n",
      "                                                                                "
     ]
    }
   ],
   "source": [
    "save_to_s3_as_parquet(df_llm.toPandas(), s3_bucket, 'reddit_tifu_llm.parquet', AWS_ACCESS_KEY_ID, AWS_SECRET_ACCESS_KEY)"
   ]
  }
 ],
 "metadata": {
  "kernelspec": {
   "display_name": "Python 3 (ipykernel)",
   "language": "python",
   "name": "python3"
  },
  "language_info": {
   "codemirror_mode": {
    "name": "ipython",
    "version": 3
   },
   "file_extension": ".py",
   "mimetype": "text/x-python",
   "name": "python",
   "nbconvert_exporter": "python",
   "pygments_lexer": "ipython3",
   "version": "3.9.21"
  }
 },
 "nbformat": 4,
 "nbformat_minor": 5
}
